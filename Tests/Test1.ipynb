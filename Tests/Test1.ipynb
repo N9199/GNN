{
 "cells": [
  {
   "cell_type": "code",
   "execution_count": 1,
   "metadata": {},
   "outputs": [],
   "source": [
    "import numpy as np"
   ]
  },
  {
   "cell_type": "markdown",
   "metadata": {},
   "source": [
    "$G$: Graph as adjacency matrix\n",
    "\n",
    "$X0$: Initial values as matrix, it has L column vectors, $X0_{i,j}=1$ iff the j-th sub-formula is of the type Color(x) and the i-th node in G satisfies it, in other case it's $0$\n",
    "\n",
    "The formula for this example is $\\varphi(x)=Red(x)\\wedge\\exists y(E(x,y)\\wedge Blue(y))$\n",
    "\n",
    "The graph chosen is $C_4$ where one node is Red and all others are Blue"
   ]
  },
  {
   "cell_type": "code",
   "execution_count": 2,
   "metadata": {},
   "outputs": [],
   "source": [
    "L = 4\n",
    "G = np.array([[0,1,1,0],[1,0,0,1],[1,0,0,1],[0,1,1,0]], np.int32)\n",
    "X0 = np.array([[1,0,0,0],[0,1,0,0],[0,1,0,0],[0,1,0,0]])"
   ]
  },
  {
   "cell_type": "markdown",
   "metadata": {},
   "source": [
    "In each step we take $X_i=ReLU(X_{i-1}\\cdot A+G\\cdot X_{i-1}\\cdot C+b)$"
   ]
  },
  {
   "cell_type": "code",
   "execution_count": 3,
   "metadata": {},
   "outputs": [],
   "source": [
    "A = np.array([[1,0,0,1],[0,1,0,0],[0,0,0,1],[0,0,0,0]])\n",
    "C = np.array([[0,0,0,0],[0,0,1,0],[0,0,0,0],[0,0,0,0]])\n",
    "b = np.array([[0,0,0,-1],[0,0,0,-1],[0,0,0,-1],[0,0,0,-1]])"
   ]
  },
  {
   "cell_type": "code",
   "execution_count": 4,
   "metadata": {},
   "outputs": [
    {
     "name": "stdout",
     "output_type": "stream",
     "text": [
      "[[0 1 1 0]\n",
      " [1 0 0 1]\n",
      " [1 0 0 1]\n",
      " [0 1 1 0]]\n",
      "[[1 0 0 0]\n",
      " [0 1 0 0]\n",
      " [0 1 0 0]\n",
      " [0 1 0 0]]\n",
      "[[1 0 0 1]\n",
      " [0 1 0 0]\n",
      " [0 0 0 1]\n",
      " [0 0 0 0]]\n",
      "[[0 0 0 0]\n",
      " [0 0 1 0]\n",
      " [0 0 0 0]\n",
      " [0 0 0 0]]\n",
      "[[ 0  0  0 -1]\n",
      " [ 0  0  0 -1]\n",
      " [ 0  0  0 -1]\n",
      " [ 0  0  0 -1]]\n"
     ]
    }
   ],
   "source": [
    "print(G, X0, A, C, b, sep='\\n')"
   ]
  },
  {
   "cell_type": "code",
   "execution_count": 5,
   "metadata": {},
   "outputs": [],
   "source": [
    "# Save each state in states\n",
    "states = (L+1)*[None]\n",
    "states[0] = X0"
   ]
  },
  {
   "cell_type": "code",
   "execution_count": 6,
   "metadata": {},
   "outputs": [],
   "source": [
    "for i in range(L):\n",
    "    X0 = np.add(np.add(np.matmul(X0, A),np.matmul(np.matmul(G, X0),C)),b)\n",
    "    np.maximum(X0,0,X0)\n",
    "    np.minimum(X0,1,X0)\n",
    "    states[i+1] = X0"
   ]
  },
  {
   "cell_type": "code",
   "execution_count": 7,
   "metadata": {},
   "outputs": [
    {
     "data": {
      "text/plain": [
       "array([[1, 0, 1, 1],\n",
       "       [0, 1, 1, 0],\n",
       "       [0, 1, 1, 0],\n",
       "       [0, 1, 1, 0]])"
      ]
     },
     "execution_count": 7,
     "metadata": {},
     "output_type": "execute_result"
    }
   ],
   "source": [
    "X0 # X0_iL=1 iff the i-th node of G satisfies the formula"
   ]
  },
  {
   "cell_type": "code",
   "execution_count": 8,
   "metadata": {},
   "outputs": [
    {
     "name": "stdout",
     "output_type": "stream",
     "text": [
      "[[1 0 0 0]\n",
      " [0 1 0 0]\n",
      " [0 1 0 0]\n",
      " [0 1 0 0]]\n",
      "[[1 0 1 0]\n",
      " [0 1 1 0]\n",
      " [0 1 1 0]\n",
      " [0 1 1 0]]\n",
      "[[1 0 1 1]\n",
      " [0 1 1 0]\n",
      " [0 1 1 0]\n",
      " [0 1 1 0]]\n",
      "[[1 0 1 1]\n",
      " [0 1 1 0]\n",
      " [0 1 1 0]\n",
      " [0 1 1 0]]\n",
      "[[1 0 1 1]\n",
      " [0 1 1 0]\n",
      " [0 1 1 0]\n",
      " [0 1 1 0]]\n"
     ]
    }
   ],
   "source": [
    "print('\\n'.join(map(str,states))) # States from X0 to XL"
   ]
  },
  {
   "cell_type": "code",
   "execution_count": null,
   "metadata": {},
   "outputs": [],
   "source": []
  }
 ],
 "metadata": {
  "kernelspec": {
   "display_name": "Python 3",
   "language": "python",
   "name": "python3"
  },
  "language_info": {
   "codemirror_mode": {
    "name": "ipython",
    "version": 3
   },
   "file_extension": ".py",
   "mimetype": "text/x-python",
   "name": "python",
   "nbconvert_exporter": "python",
   "pygments_lexer": "ipython3",
   "version": "3.7.7"
  }
 },
 "nbformat": 4,
 "nbformat_minor": 2
}
